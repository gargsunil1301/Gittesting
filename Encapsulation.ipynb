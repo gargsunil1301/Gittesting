{
 "cells": [
  {
   "cell_type": "code",
   "execution_count": 6,
   "metadata": {},
   "outputs": [
    {
     "name": "stdout",
     "output_type": "stream",
     "text": [
      "1234\n"
     ]
    }
   ],
   "source": [
    "class Phonebook():\n",
    "    def __init__(self):\n",
    "        self.entries = {}\n",
    "        \n",
    "    def add(self, name, phone_number):\n",
    "        self.entries[name] = phone_number\n",
    "        \n",
    "    def get(self,name):\n",
    "        if name in self.entries:\n",
    "            return self.entries[name]\n",
    "        else:\n",
    "            return None\n",
    "        \n",
    "book = Phonebook()\n",
    "book.add(\"Sunil\",\"1234\")\n",
    "book.add(\"Deepika\",\"4546585\")\n",
    "\n",
    "print(book.get(\"Sunil\"))"
   ]
  },
  {
   "cell_type": "code",
   "execution_count": null,
   "metadata": {},
   "outputs": [],
   "source": []
  }
 ],
 "metadata": {
  "kernelspec": {
   "display_name": "Python 3",
   "language": "python",
   "name": "python3"
  },
  "language_info": {
   "codemirror_mode": {
    "name": "ipython",
    "version": 3
   },
   "file_extension": ".py",
   "mimetype": "text/x-python",
   "name": "python",
   "nbconvert_exporter": "python",
   "pygments_lexer": "ipython3",
   "version": "3.7.4"
  }
 },
 "nbformat": 4,
 "nbformat_minor": 2
}
